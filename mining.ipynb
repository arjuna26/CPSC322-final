{
 "cells": [
  {
   "cell_type": "markdown",
   "metadata": {},
   "source": [
    "## Premier League Match Prediction - Data Preprocessing and Exploratory Data Analysis\n",
    "### CPSC322 Final Project\n",
    "Author: Arjuna Herbst | Date: 11/10/2024 | Gonzaga University\n",
    "\n",
    "---\n",
    "\n",
    "This notebook covers data preprocessing, exploratory data analysis (EDA), and visualizations for predicting Premier League match outcomes. We will explore the dataset to understand its structure, clean it as necessary, and visualize trends that may help inform our classification model.\n",
    "\n",
    "First, let's import the libraries we will be using for this project"
   ]
  },
  {
   "cell_type": "code",
   "execution_count": 1,
   "metadata": {},
   "outputs": [],
   "source": [
    "import pandas as pd\n",
    "import numpy as np\n",
    "import matplotlib.pyplot as plt\n",
    "import seaborn as sns"
   ]
  }
 ],
 "metadata": {
  "kernelspec": {
   "display_name": "Python 3",
   "language": "python",
   "name": "python3"
  },
  "language_info": {
   "codemirror_mode": {
    "name": "ipython",
    "version": 3
   },
   "file_extension": ".py",
   "mimetype": "text/x-python",
   "name": "python",
   "nbconvert_exporter": "python",
   "pygments_lexer": "ipython3",
   "version": "3.10.11"
  }
 },
 "nbformat": 4,
 "nbformat_minor": 2
}
